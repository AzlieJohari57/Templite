{
 "cells": [
  {
   "cell_type": "code",
   "execution_count": 53,
   "id": "e18178df",
   "metadata": {},
   "outputs": [
    {
     "data": {
      "text/plain": [
       "True"
      ]
     },
     "execution_count": 53,
     "metadata": {},
     "output_type": "execute_result"
    }
   ],
   "source": [
    "from dotenv import load_dotenv\n",
    "import os\n",
    "import numpy as np \n",
    "import pandas as pd\n",
    "import pdfplumber\n",
    "\n",
    "from langchain_openai import ChatOpenAI\n",
    "from langgraph.prebuilt import create_react_agent\n",
    "from langchain.tools import tool\n",
    "\n",
    "\n",
    "load_dotenv()"
   ]
  },
  {
   "cell_type": "code",
   "execution_count": 54,
   "id": "0b3ad170",
   "metadata": {},
   "outputs": [],
   "source": [
    "# LLM definition\n",
    "model = ChatOpenAI(\n",
    "    model=\"gpt-4o-mini\", \n",
    "    temperature=0,\n",
    "    openai_api_key=os.getenv(\"OPENAI_API_KEY\")\n",
    ")"
   ]
  },
  {
   "cell_type": "code",
   "execution_count": 55,
   "id": "3814f24e",
   "metadata": {},
   "outputs": [],
   "source": [
    "cust_data = {\n",
    "  \"id\": 5757,\n",
    "  \"template\": \"A\",\n",
    "  \"image\": \"\",\n",
    "  \"language_selected\": \"Bahasa Malaysia\",\n",
    "  \"picture\": \"\",\n",
    "  \"name\": \"Nadira Aisyah\",\n",
    "  \"adress\": \"No. 12, Jalan Bunga Raya, 50450 Kuala Lumpur\",\n",
    "  \"email\": \"nadira.aisyah@techmail.com\",\n",
    "  \"telephone\": \"+60 12 345 6789\",\n",
    "  \"title\": \"Pembangun Web Asas\",\n",
    "  \"about\": \"Pembangun web dengan sedikit pengalaman dalam projek-projek asas dan tugasan berkumpulan.\",\n",
    "  \"experience\": \"Company FusionTech Solutions, Jurutera Perisian, Kuala Lumpur, 2021 – Kini. Menyokong pasukan dalam tugas pembangunan harian, membantu membetulkan isu kecil dalam aplikasi web, menghadiri mesyuarat mingguan dan membuat dokumentasi asas projek. Company InnovaCode, Pembangun Web Junior, Selangor, 2019 – 2021. Membantu dalam mereka bentuk halaman web asas, membuat kemas kini kandungan laman web secara berkala, menjalankan ujian ringkas sebelum penghantaran. Company DataMinds, Intern Analisis Data, Cyberjaya, 2018 – 2019. Membantu memindahkan data ke dalam Excel, menyediakan laporan asas dengan bantuan penyelia, mempelajari asas pengendalian dataset kecil.\",\n",
    "  \"education\": \"Ijazah Sarjana Muda Sains Komputer, Universiti Malaya, 2015 – 2019. CGPA 2.80/4.00. STPM Sains, Kolej Tingkatan Enam Cheras, 2013 – 2015. Lulus semua subjek. SPM, SMK Seri Bintang Utara, 2012. 5 kredit termasuk Matematik.\",\n",
    "  \"reference\": \"Pn. Farah Lina, Pegawai Pentadbiran di FusionTech Solutions, farah.lina@fusiontech.com, +60 12 678 9012. En. Ahmad Zulkifli, Pembantu Pensyarah di Universiti Malaya, ahmad.zulkifli@um.edu.my, +60 13 123 4567.\",\n",
    "  \"technical_skills\": \"Python 30%, JavaScript 20%, SQL 15%, React 25%.\",\n",
    "  \"soft_skills\": \"Komunikasi 20%, Kerja Berpasukan 21%, Pengurusan Masa 19%, Kepimpinan 18%.\",\n",
    "  \"certification\": \"Asas Python - 2023, Pengenalan Cloud - 2022.\"\n",
    "}"
   ]
  },
  {
   "cell_type": "markdown",
   "id": "935c88c9",
   "metadata": {},
   "source": [
    "# Data Transformation"
   ]
  },
  {
   "cell_type": "code",
   "execution_count": 56,
   "id": "a07568af",
   "metadata": {},
   "outputs": [
    {
     "data": {
      "text/plain": [
       "{'id': 5757,\n",
       " 'template': 'A',\n",
       " 'image': '',\n",
       " 'language_selected': 'Bahasa Malaysia',\n",
       " 'picture': '',\n",
       " 'name': 'Nadira Aisyah',\n",
       " 'adress': 'No. 12, Jalan Bunga Raya, 50450 Kuala Lumpur',\n",
       " 'email': 'nadira.aisyah@techmail.com',\n",
       " 'telephone': '+60 12 345 6789',\n",
       " 'title': 'Pembangun Web Asas',\n",
       " 'about': 'Pembangun web dengan sedikit pengalaman dalam projek-projek asas dan tugasan berkumpulan.',\n",
       " 'experience': 'Company FusionTech Solutions, Jurutera Perisian, Kuala Lumpur, 2021 – Kini. Menyokong pasukan dalam tugas pembangunan harian, membantu membetulkan isu kecil dalam aplikasi web, menghadiri mesyuarat mingguan dan membuat dokumentasi asas projek. Company InnovaCode, Pembangun Web Junior, Selangor, 2019 – 2021. Membantu dalam mereka bentuk halaman web asas, membuat kemas kini kandungan laman web secara berkala, menjalankan ujian ringkas sebelum penghantaran. Company DataMinds, Intern Analisis Data, Cyberjaya, 2018 – 2019. Membantu memindahkan data ke dalam Excel, menyediakan laporan asas dengan bantuan penyelia, mempelajari asas pengendalian dataset kecil.',\n",
       " 'education': 'Ijazah Sarjana Muda Sains Komputer, Universiti Malaya, 2015 – 2019. CGPA 2.80/4.00. STPM Sains, Kolej Tingkatan Enam Cheras, 2013 – 2015. Lulus semua subjek. SPM, SMK Seri Bintang Utara, 2012. 5 kredit termasuk Matematik.',\n",
       " 'reference': 'Pn. Farah Lina, Pegawai Pentadbiran di FusionTech Solutions, farah.lina@fusiontech.com, +60 12 678 9012. En. Ahmad Zulkifli, Pembantu Pensyarah di Universiti Malaya, ahmad.zulkifli@um.edu.my, +60 13 123 4567.',\n",
       " 'technical_skills': 'Python 30%, JavaScript 20%, SQL 15%, React 25%.',\n",
       " 'soft_skills': 'Komunikasi 20%, Kerja Berpasukan 21%, Pengurusan Masa 19%, Kepimpinan 18%.',\n",
       " 'certification': 'Asas Python - 2023, Pengenalan Cloud - 2022.'}"
      ]
     },
     "execution_count": 56,
     "metadata": {},
     "output_type": "execute_result"
    }
   ],
   "source": [
    "# image\n",
    "# file name\n",
    "#template \n",
    "\n",
    "id_data = cust_data[\"id\"]\n",
    "template_data = cust_data[\"template\"]\n",
    "language_data = cust_data[\"language_selected\"]\n",
    "image_data = cust_data[\"image\"]\n",
    "\n",
    "cust_data"
   ]
  },
  {
   "cell_type": "markdown",
   "id": "6f59910c",
   "metadata": {},
   "source": [
    "# Passing to LLM"
   ]
  },
  {
   "cell_type": "code",
   "execution_count": 57,
   "id": "b5710908",
   "metadata": {},
   "outputs": [
    {
     "name": "stdout",
     "output_type": "stream",
     "text": [
      "✅ Parsed JSON successfully!\n"
     ]
    }
   ],
   "source": [
    "from langchain.chat_models import ChatOpenAI\n",
    "from langchain.schema import HumanMessage\n",
    "import json\n",
    "\n",
    "instructions = \"English\"\n",
    "\n",
    "if cust_data.get(\"language_selected\") == \"English\":\n",
    "    instructions = \"\"\"\n",
    "You are a professional resume assistant. All output must be in English, regardless of the input language.\n",
    "\n",
    "Your task:\n",
    "1. Clean and restructure the given JSON object into a clean, well-structured format as described.\n",
    "2. Parse any concatenated string data into appropriate objects or arrays (e.g., experience, education, skills).\n",
    "3. Enrich resume content with professional tone, added context, and measurable impact.\n",
    "\n",
    "Formatting Rules:\n",
    "- Use the structure shown in JSON Object B.\n",
    "- Do NOT include inline explanations or metadata. Return **only valid JSON**.\n",
    "- Do NOT return skill arrays. Instead, return a `skills` object split into `technical skills` and `soft skills`.\n",
    "- All skill proficiencies must be integers only (no %, no quotes).\n",
    "\n",
    "Required Structure:\n",
    "- experience: list of objects with `company`, `title`, `location`, `duration`, and `details` (3 bullet points)\n",
    "- education: list of objects with `level`, `institution`, `duration`, and `details`\n",
    "- reference: list of objects with `name`, `position`, `company`, `email`, `telephone`\n",
    "- skills: object with `technical skills` and `soft skills`, each with skill-proficiency pairs\n",
    "- certification: list of certification strings\n",
    "\n",
    "Content Enrichment:\n",
    "- Expand each experience with 3 concise, professional bullet points (~30 words each) including action verbs and quantifiable outcomes.\n",
    "- Update the \"about\" section to match the role, add professional context, and keep around 20 words.\n",
    "- Use polished, action-oriented language throughout.\n",
    "\"\"\"\n",
    "else:\n",
    "    instructions = \"\"\"\n",
    "Anda adalah pembantu resume profesional. Semua output mesti dalam Bahasa Melayu.\n",
    "\n",
    "Tugasan anda:\n",
    "1. Susun semula objek JSON supaya lebih tersusun dan mudah dibaca.\n",
    "2. Tukar maklumat bercantum kepada format objek atau senarai mengikut struktur yang ditetapkan.\n",
    "3. Naiktaraf kandungan resume dengan gaya profesional, serta tambah konteks dan kesan yang boleh diukur.\n",
    "\n",
    "Peraturan Format:\n",
    "- Gunakan struktur seperti JSON Object B.\n",
    "- Jangan berikan sebarang penjelasan. Hanya keluarkan JSON yang sah.\n",
    "- Jangan guna senarai kemahiran. Guna objek `skills` dengan `technical skills` dan `soft skills`.\n",
    "- Semua kemahiran mesti dinyatakan dalam bentuk integer sahaja (tanpa %, tanpa tanda petik).\n",
    "\n",
    "Struktur Diperlukan:\n",
    "- experience: senarai objek dengan `company`, `title`, `location`, `duration`, dan `details` (3 poin ringkas)\n",
    "- education: senarai objek dengan `level`, `institution`, `duration`, dan `details`\n",
    "- reference: senarai objek dengan `name`, `position`, `company`, `email`, `telephone`\n",
    "- skills: objek dengan `technical skills` dan `soft skills`, dengan pasangan kemahiran dan tahap\n",
    "- certification: senarai sijil dalam bentuk string\n",
    "\n",
    "Naiktaraf Kandungan:\n",
    "- Setiap pengalaman kerja perlu mengandungi 3 poin ringkas (~30 patah perkataan), dengan hasil yang boleh diukur.\n",
    "- Perbaharui bahagian \"about\" supaya padat, sesuai dengan jawatan, dan sekitar 20 patah perkataan.\n",
    "- Guna bahasa profesional yang menonjolkan pencapaian.\n",
    "\"\"\"\n",
    "\n",
    "prompt_template = \"\"\"\n",
    "You are a professional assistant that structures and enhances resume details in JSON format.\n",
    "You will receive a raw JSON object representing a resume and instructions.\n",
    "Return only the enhanced and properly structured JSON object. No explanation.\n",
    "\n",
    "Instructions:\n",
    "{instructions}\n",
    "\n",
    "Resume JSON:\n",
    "{resume_json}\n",
    "\"\"\"\n",
    "\n",
    "\n",
    "resume_json_str = json.dumps(cust_data)\n",
    "prompt = prompt_template.format(instructions=instructions, resume_json=resume_json_str)\n",
    "message = HumanMessage(content=prompt)\n",
    "response = model.invoke([message])\n",
    "\n",
    "# Cleanup\n",
    "response_str = response.content\n",
    "def extract_json_from_response(response_str: str) -> str:\n",
    "    if response_str.startswith(\"```json\"):\n",
    "        response_str = response_str[len(\"```json\"):].strip()\n",
    "    elif response_str.startswith(\"```\"):\n",
    "        response_str = response_str[len(\"```\"):].strip()\n",
    "    if response_str.endswith(\"```\"):\n",
    "        response_str = response_str[:-3].strip()\n",
    "    return response_str\n",
    "\n",
    "clean_json_str = extract_json_from_response(response_str)\n",
    "\n",
    "try:\n",
    "    json_object = json.loads(clean_json_str)\n",
    "    print(\"✅ Parsed JSON successfully!\")\n",
    "except json.JSONDecodeError as e:\n",
    "    print(\"❌ Failed to parse JSON:\", e)\n",
    "    json_object = None"
   ]
  },
  {
   "cell_type": "code",
   "execution_count": 58,
   "id": "8dba4e96",
   "metadata": {},
   "outputs": [
    {
     "name": "stdout",
     "output_type": "stream",
     "text": [
      "{'id': 5757, 'template': 'A', 'image': '', 'language_selected': 'Bahasa Malaysia', 'picture': '', 'name': 'Nadira Aisyah', 'address': 'No. 12, Jalan Bunga Raya, 50450 Kuala Lumpur', 'email': 'nadira.aisyah@techmail.com', 'telephone': '+60 12 345 6789', 'title': 'Pembangun Web Asas', 'about': 'Pembangun web yang berpengalaman dalam projek asas dengan kemahiran dalam penyelesaian masalah dan kerja berpasukan yang berkesan.', 'experience': [{'company': 'FusionTech Solutions', 'title': 'Jurutera Perisian', 'location': 'Kuala Lumpur', 'duration': '2021 – Kini', 'details': ['Menyokong pasukan dalam pembangunan aplikasi web, meningkatkan kecekapan proses dengan menyelesaikan isu kecil.', 'Menghasilkan dokumentasi projek yang jelas dan terperinci untuk rujukan masa depan.', 'Menghadiri mesyuarat mingguan untuk membincangkan kemajuan dan cabaran projek.']}, {'company': 'InnovaCode', 'title': 'Pembangun Web Junior', 'location': 'Selangor', 'duration': '2019 – 2021', 'details': ['Mereka bentuk dan membangunkan halaman web asas yang memenuhi keperluan pelanggan.', 'Melaksanakan kemas kini kandungan laman web secara berkala untuk memastikan maklumat terkini.', 'Menjalankan ujian kualiti sebelum penghantaran untuk memastikan prestasi laman web yang optimum.']}, {'company': 'DataMinds', 'title': 'Intern Analisis Data', 'location': 'Cyberjaya', 'duration': '2018 – 2019', 'details': ['Membantu dalam pemindahan data ke dalam Excel, meningkatkan ketepatan data yang digunakan.', 'Menyediakan laporan asas dengan bimbingan penyelia, mempercepatkan proses analisis.', 'Mempelajari pengendalian dataset kecil yang meningkatkan kemahiran analisis data.']}], 'education': [{'level': 'Ijazah Sarjana Muda Sains Komputer', 'institution': 'Universiti Malaya', 'duration': '2015 – 2019', 'details': 'CGPA 2.80/4.00, mempelajari pelbagai aspek pengaturcaraan dan pembangunan perisian.'}, {'level': 'STPM Sains', 'institution': 'Kolej Tingkatan Enam Cheras', 'duration': '2013 – 2015', 'details': 'Lulus semua subjek dengan penekanan pada sains dan matematik.'}, {'level': 'SPM', 'institution': 'SMK Seri Bintang Utara', 'duration': '2012', 'details': 'Mendapat 5 kredit termasuk Matematik, menunjukkan asas yang kukuh dalam subjek teknikal.'}], 'reference': [{'name': 'Pn. Farah Lina', 'position': 'Pegawai Pentadbiran', 'company': 'FusionTech Solutions', 'email': 'farah.lina@fusiontech.com', 'telephone': '+60 12 678 9012'}, {'name': 'En. Ahmad Zulkifli', 'position': 'Pembantu Pensyarah', 'company': 'Universiti Malaya', 'email': 'ahmad.zulkifli@um.edu.my', 'telephone': '+60 13 123 4567'}], 'skills': {'technical skills': {'Python': 30, 'JavaScript': 20, 'SQL': 15, 'React': 25}, 'soft skills': {'Komunikasi': 20, 'Kerja Berpasukan': 21, 'Pengurusan Masa': 19, 'Kepimpinan': 18}}, 'certification': ['Asas Python - 2023', 'Pengenalan Cloud - 2022']}\n"
     ]
    }
   ],
   "source": [
    "print(json_object)"
   ]
  },
  {
   "cell_type": "code",
   "execution_count": 59,
   "id": "ed942de5",
   "metadata": {},
   "outputs": [],
   "source": [
    "\n",
    "if language_data == \"English\": \n",
    "    language_selected = \"templates English\"\n",
    "else:\n",
    "    language_selected = \"templates Bahasa Malaysia\"\n",
    "\n",
    "\n",
    "if template_data == \"A\": \n",
    "    template_selected = \"template_A.html\"\n",
    "elif template_data == \"B\":\n",
    "    template_selected = \"template_B.html\"\n"
   ]
  },
  {
   "cell_type": "code",
   "execution_count": 60,
   "id": "f14227c7",
   "metadata": {},
   "outputs": [],
   "source": [
    "from jinja2 import Environment, FileSystemLoader\n",
    "\n",
    "# Set up Jinja2 environment\n",
    "env = Environment(loader=FileSystemLoader(\".\"))  # current directory\n",
    "\n",
    "# direct to temp selected\n",
    "template = env.get_template(f\"./{language_selected}/{template_selected}\")\n",
    "\n",
    "# Render with data\n",
    "output_html = template.render(**json_object)\n",
    "\n",
    "# Write to output file\n",
    "with open(f\"./generated html/{id_data}_output_resume.html\", \"w\", encoding=\"utf-8\") as f:\n",
    "    f.write(output_html)"
   ]
  }
 ],
 "metadata": {
  "kernelspec": {
   "display_name": "templite",
   "language": "python",
   "name": "python3"
  },
  "language_info": {
   "codemirror_mode": {
    "name": "ipython",
    "version": 3
   },
   "file_extension": ".py",
   "mimetype": "text/x-python",
   "name": "python",
   "nbconvert_exporter": "python",
   "pygments_lexer": "ipython3",
   "version": "3.12.11"
  }
 },
 "nbformat": 4,
 "nbformat_minor": 5
}
